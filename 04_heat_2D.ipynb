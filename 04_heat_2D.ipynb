{
 "cells": [
  {
   "cell_type": "markdown",
   "metadata": {},
   "source": [
    "#The heat equation in 2D\n",
    "\n",
    "$$\n",
    "\\newcommand{\\DdQq}[2]{{\\mathrm D}_{#1}{\\mathrm Q}_{#2}}\n",
    "\\newcommand{\\drondt}{\\partial_t}\n",
    "\\newcommand{\\drondx}{\\partial_x}\n",
    "\\newcommand{\\drondtt}{\\partial_{tt}}\n",
    "\\newcommand{\\drondxx}{\\partial_{xx}}\n",
    "\\newcommand{\\drondyy}{\\partial_{yy}}\n",
    "\\newcommand{\\dx}{\\Delta x}\n",
    "\\newcommand{\\dt}{\\Delta t}\n",
    "\\newcommand{\\grandO}{{\\mathcal O}}\n",
    "\\newcommand{\\density}[2]{\\,f_{#1}^{#2}}\n",
    "\\newcommand{\\fk}[1]{\\density{#1}{\\vphantom{\\star}}}\n",
    "\\newcommand{\\fks}[1]{\\density{#1}{\\star}}\n",
    "\\newcommand{\\moment}[2]{\\,m_{#1}^{#2}}\n",
    "\\newcommand{\\mk}[1]{\\moment{#1}{\\vphantom{\\star}}}\n",
    "\\newcommand{\\mke}[1]{\\moment{#1}{e}}\n",
    "\\newcommand{\\mks}[1]{\\moment{#1}{\\star}}\n",
    "$$\n",
    "\n",
    "In this practical work session, we test a very classical lattice Boltzmann scheme $\\DdQq{2}{5}$ on the heat equation.\n",
    "\n",
    "The problem reads\n",
    "\\begin{gather*} \\drondt u = \\mu (\\drondxx+\\drondyy) u, \\quad t>0, \\quad (x, y)\\in(0,1)^2,\\\\ u(0) = u(1) = 0, \\end{gather*}\n",
    "where $\\mu$ is a constant scalar."
   ]
  },
  {
   "cell_type": "markdown",
   "metadata": {},
   "source": [
    "##The scheme $\\DdQq{2}{5}$\n",
    "\n",
    "The numerical simulation of this equation by a lattice Boltzmann scheme consists in the approximatation of the solution on discret points of $(0,1)^2$ at discret instants.\n",
    "\n",
    "To simulate this system of equations, we use the $\\DdQq{2}{5}$ scheme given by\n",
    "\n",
    "* five velocities $v_0=(0,0)$, $v_1=(1,0)$, $v_2=(0,1)$, $v_3=(-1,0)$, and $v_4=(0,-1)$ with associated distribution functions $\\fk{i}$, $0\\leq i\\leq 4$,\n",
    "* a space step $\\dx$ and a time step $\\dt$, the ration $\\lambda=\\dx/\\dt$ is called the scheme velocity,\n",
    "* five moments\n",
    "  $$ \\mk{0}=\\sum_{i=0}^{4} \\fk{i}, \\quad \\mk{1}= \\sum_{i=0}^{4} v_{ix} \\fk{i}, \\quad \\mk{2}= \\sum_{i=0}^{4} v_{iy} \\fk{i}, \\quad \\mk{3}= \\frac{1}{2} \\sum_{i=0}^{5} (v_{ix}^2+v_{iy}^2) \\fk{i}, \\quad \\mk{4}= \\frac{1}{2} \\sum_{i=0}^{5} (v_{ix}^2-v_{iy}^2) \\fk{i},$$\n",
    "  and their equilibrium values $\\mke{k}$, $0\\leq k\\leq 4$.\n",
    "* two relaxation parameters $s_1$ and $s_2$ lying in $[0,2]$ ($s_1$ for the odd moments and $s_2$ for the odd ones).\n",
    "\n",
    "In order to use the formalism of the package pyLBM, we introduce the five polynomials that define the moments: $P_0 = 1$, $P_1=X$, $P_2=Y$, $P_3=(X^2+Y^2)/2$, and $P_4=(X^2-Y^2)/2$, such that\n",
    "$$ \\mk{k} = \\sum_{i=0}^4 P_k(v_{ix}, v_{iy}) \\fk{i}.$$\n",
    "The transformation $(\\fk{0}, \\fk{1}, \\fk{2}, \\fk{3}, \\fk{4})\\mapsto(\\mk{0},\\mk{1}, \\mk{2}, \\mk{3}, \\mk{4})$ is invertible if, and only if, the polynomials $(P_0,P_1,P_2,P_3,P_4)$ is a free set over the stencil of velocities.\n",
    "\n",
    "The lattice Boltzmann method consists to compute the distribution functions $\\fk{i}$, $0\\leq i\\leq 4$ in each point of the lattice $x$ and at each time $t^n=n\\dt$.\n",
    "A step of the scheme can be read as a splitting between the relaxation phase and the transport phase:\n",
    "\n",
    "* relaxation: \n",
    "    \\begin{align}\\mks{1}(t,x,y)&=(1-s_1)\\mk{1}(t,x,y)+s_1\\mke{1}(t,x,y),\\\\ \\mks{2}(t,x,y)&=(1-s_1)\\mk{2}(t,x,y)+s_1\\mke{2}(t,x,y),\\\\ \\mks{3}(t,x,y)&=(1-s_2)\\mk{3}(t,x,y)+s_2\\mke{3}(t,x,y),\\\\ \\mks{4}(t,x,y)&=(1-s_2)\\mk{4}(t,x,y)+s_2\\mke{4}(t,x,y).\\end{align}\n",
    "* m2f: \n",
    "    \\begin{align}\\fks{0}(t,x,y)&\\;=\\mk{0}(t,x,y)-2\\mks{3}(t,x,y), \\\\ \\fks{1}(t,x,y)&\\;=\\tfrac{1}{2}(\\phantom{-}\\mks{1}(t,x,y)+\\mks{3}(t,x,y)+\\mks{4}(t,x,y)), \\\\ \\fks{2}(t,x,y)&\\;=\\tfrac{1}{2}(\\phantom{-}\\mks{2}(t,x,y)+\\mks{3}(t,x,y)-\\mks{4}(t,x,y)), \\\\ \\fks{3}(t,x,y)&\\;=\\tfrac{1}{2}(-\\mks{1}(t,x,y)+\\mks{3}(t,x,y)+\\mks{4}(t,x,y)), \\\\ \\fks{4}(t,x,y)&\\;=\\tfrac{1}{2}(-\\mks{2}(t,x,y)+\\mks{3}(t,x,y)-\\mks{4}(t,x,y)).\\end{align}\n",
    "* transport: \n",
    "    \\begin{align} \\fk{0}(t+\\dt, x,y)&\\;=\\fks{0}(t,x,y), \\\\ \\fk{1}(t+\\dt, x,y)&\\;=\\fks{1}(t,x-\\dx,y), \\\\ \\fk{2}(t+\\dt, x,y)&\\;=\\fks{2}(t,x,y-\\dx), \\\\ \\fk{3}(t+\\dt, x,y)&\\;=\\fks{3}(t,x+\\dx,y), \\\\ \\fk{4}(t+\\dt, x,y)&\\;=\\fks{4}(t,x,y+\\dx). \\end{align}\n",
    "* f2m: \n",
    "    \\begin{align}\\mk{0}(t+\\dt,x,y)&\\;=\\fk{0}(t+\\dt,x,y)+\\fk{1}(t+\\dt,x,y)+\\fk{2}(t+\\dt,x,y)\\\\&\\;\\phantom{=}+\\fk{3}(t+\\dt,x,y)+\\fk{4}(t+\\dt,x,y), \\\\ \\mk{1}(t+\\dt,x,y)&\\;=\\fk{1}(t+\\dt,x,y)-\\fk{3}(t+\\dt,x,y), \\\\ \\mk{2}(t+\\dt,x,y)&\\;=\\fk{2}(t+\\dt,x,y)-\\fk{4}(t+\\dt,x,y), \\\\ \\mk{3}(t+\\dt,x,y)&\\;=\\tfrac{1}{2}(\\fk{1}(t+\\dt,x,y)+\\fk{2}(t+\\dt,x,y)+\\fk{3}(t+\\dt,x,y)+\\fk{4}(t+\\dt,x,y)), \\\\ \\mk{4}(t+\\dt,x,y)&\\;=\\tfrac{1}{2}(\\fk{1}(t+\\dt,x,y)-\\fk{2}(t+\\dt,x,y)+\\fk{3}(t+\\dt,x,y)-\\fk{4}(t+\\dt,x,y)).\\end{align}\n",
    "\n",
    "The moment of order $0$, $\\mk{0}$, being conserved during the relaxation phase, \n",
    "a diffusive scaling $\\dt=\\dx^2$, yields to the following equivalent equation\n",
    "$$\\drondt\\mk{0} = \\bigl(\\tfrac{1}{s_1}-\\tfrac{1}{2}\\bigr) \\bigl(\\drondxx(\\mke{3}+\\mke{4})+\\drondyy(\\mke{3}-\\mke{4})\\bigr) + \\grandO(\\dx^2),$$\n",
    "if $\\mke{1}=0$.\n",
    "In order to be consistent with the heat equation, the following choice is done:\n",
    "$$\\mke{3}=\\tfrac{1}{2}u, \\qquad \\mke{4}=0, \\qquad s_1 = \\frac{2}{1+4\\mu}, \\qquad s_2=1.$$\n"
   ]
  },
  {
   "cell_type": "markdown",
   "metadata": {},
   "source": [
    "##Using pyLBM\n",
    "\n",
    "In the following, we build the dictionary of the simulation step by step.\n",
    "\n",
    "###The geometry\n",
    "\n",
    "####Question 1\n",
    "\n",
    "Propose a dictionary for the square $(0,1)^2$ and visualize it. You can already assign the label 0 to the bounds."
   ]
  },
  {
   "cell_type": "code",
   "execution_count": 1,
   "metadata": {
    "collapsed": false
   },
   "outputs": [
    {
     "name": "stdout",
     "output_type": "stream",
     "text": [
      "Geometry informations\n",
      "\t spatial dimension: 2\n",
      "\t bounds of the box: \n",
      "[[ 0.  1.]\n",
      " [ 0.  1.]]\n",
      "\n"
     ]
    },
    {
     "data": {
      "image/png": "[encoded data removed]",
      "text/plain": [
       "<matplotlib.figure.Figure at 0x7f3176340c90>"
      ]
     },
     "metadata": {},
     "output_type": "display_data"
    }
   ],
   "source": [
    "import pyLBM\n",
    "import numpy as np\n",
    "import pylab as plt\n",
    "%matplotlib inline\n",
    "xmin, xmax, ymin, ymax = 0., 1., 0., 1.\n",
    "dico_geom = {\n",
    "    'box': {'x': [xmin, xmax], 'y':[ymin, ymax], 'label':0},\n",
    "}\n",
    "geom = pyLBM.Geometry(dico_geom)\n",
    "print geom\n",
    "geom.visualize(viewlabel=True)"
   ]
  },
  {
   "cell_type": "markdown",
   "metadata": {},
   "source": [
    "###The stencil\n",
    "\n",
    "pyLBM provides a class stencil that is used to define the discret velocities of the scheme. In this example, the stencil is composed by the velocities $v_0=(0,0)$, $v_1=(1,0)$, $v_2=(-1,0)$, $v_3=(0,1)$, and $v_4=(0,-1)$ numbered by $[0,1,2,3,4]$.\n",
    "\n",
    "####Question 2\n",
    "\n",
    "Propose a dictionary for the stencil of these five velocities in dimension $2$. Visualize it with the viewer MatplotlibViewer in pyLBM.viewer."
   ]
  },
  {
   "cell_type": "code",
   "execution_count": 2,
   "metadata": {
    "collapsed": false
   },
   "outputs": [
    {
     "name": "stdout",
     "output_type": "stream",
     "text": [
      "Stencil informations\n",
      "\t * spatial dimension: 2\n",
      "\t * maximal velocity in each direction: [1 1 None]\n",
      "\t * minimal velocity in each direction: [-1 -1 None]\n",
      "\t * Informations for each elementary stencil:\n",
      "\t\tstencil 0\n",
      "\t\t - number of velocities:  5\n",
      "\t\t - velocities: (0: 0, 0), (1: 1, 0), (2: 0, 1), (3: -1, 0), (4: 0, -1), \n",
      "\n"
     ]
    },
    {
     "data": {
      "image/png": "[encoded data removed]",
      "text/plain": [
       "<matplotlib.figure.Figure at 0x7f319dfc2d10>"
      ]
     },
     "metadata": {},
     "output_type": "display_data"
    }
   ],
   "source": [
    "dico_sten = {\n",
    "    'dim':2,\n",
    "    'schemes':[{'velocities':range(5)}],\n",
    "}\n",
    "sten = pyLBM.Stencil(dico_sten)\n",
    "print sten\n",
    "sten.visualize()"
   ]
  },
  {
   "cell_type": "markdown",
   "metadata": {},
   "source": [
    "###The domain\n",
    "\n",
    "In order to build the domain of the simulation, the dictionary should contain the space step $\\dx$ and the stencils of the velocities (one for each scheme). \n",
    "\n",
    "####Question 3\n",
    "\n",
    "Propose a dictionary for the domain with $N=10$ points in space. Visualize it."
   ]
  },
  {
   "cell_type": "code",
   "execution_count": 3,
   "metadata": {
    "collapsed": false
   },
   "outputs": [
    {
     "name": "stdout",
     "output_type": "stream",
     "text": [
      "Domain informations\n",
      "\t spatial dimension: 2\n",
      "\t bounds of the box: bounds = [[ 0.  1.]\n",
      " [ 0.  1.]]\n",
      "\t space step: dx= 1.000e-01\n",
      "\n"
     ]
    },
    {
     "data": {
      "image/png": "[encoded data removed]",
      "text/plain": [
       "<matplotlib.figure.Figure at 0x7f319dfc2890>"
      ]
     },
     "metadata": {},
     "output_type": "display_data"
    }
   ],
   "source": [
    "N = 10\n",
    "dx = (xmax-xmin)/N\n",
    "dico_dom = {\n",
    "    'box': {'x': [xmin, xmax], 'y':[ymin, ymax], 'label':0},\n",
    "    'space_step':dx,\n",
    "    'schemes':[\n",
    "        {\n",
    "            'velocities':range(5),\n",
    "        }\n",
    "    ],\n",
    "}\n",
    "dom = pyLBM.Domain(dico_dom)\n",
    "print dom\n",
    "dom.visualize(opt=True)"
   ]
  },
  {
   "cell_type": "markdown",
   "metadata": {},
   "source": [
    "###The scheme\n",
    "\n",
    "In pyLBM, a simulation can be performed by using several coupled schemes. In this example, a single scheme is used and defined through a list of one single dictionary. This dictionary should contain:\n",
    "\n",
    "* 'velocities': a list of the velocities\n",
    "* 'conserved_moments': a list of the conserved moments as sympy variables\n",
    "* 'polynomials': a list of the polynomials that define the moments\n",
    "* 'equilibrium': a list of the equilibrium value of all the moments\n",
    "* 'relaxation_parameters': a list of the relaxation parameters ($0$ for the conserved moments)\n",
    "* 'init': a dictionary to initialize the conserved moments\n",
    "\n",
    "(see the documentation for more details)\n",
    "\n",
    "####Question 4\n",
    "\n",
    "Propose a dictionary for the scheme. The scheme velocity could be taken to $1/\\dx$ and the inital value of $u$ to $0$ ('init':{u:$0$.}).\n",
    "\n",
    "####Question 5\n",
    "\n",
    "Modify the previous dictionary to impose the initial condition:\n",
    "$$ u(t=0,x) = \\sin(\\pi x)\\sin(\\pi y).$$"
   ]
  },
  {
   "cell_type": "code",
   "execution_count": 4,
   "metadata": {
    "collapsed": false
   },
   "outputs": [
    {
     "name": "stdout",
     "output_type": "stream",
     "text": [
      "Scheme informations\n",
      "\t spatial dimension: dim=2\n",
      "\t number of schemes: nscheme=1\n",
      "\t number of velocities:\n",
      "    Stencil.nv[0]=5\n",
      "\t velocities value:\n",
      "    v[0]=(0: 0, 0), (1: 1, 0), (2: 0, 1), (3: -1, 0), (4: 0, -1), \n",
      "\t polynomials:\n",
      "    P[0]=Matrix([[1], [X], [Y], [X**2/2 + Y**2/2], [X**2/2 - Y**2/2]])\n",
      "\t equilibria:\n",
      "    EQ[0]=Matrix([[u], [0.0], [0.0], [0.5*u], [0.0]])\n",
      "\t relaxation parameters:\n",
      "    s[0]=[0.0, 0.4, 0.4, 1.0, 1.0]\n",
      "\t moments matrices\n",
      "M = [Matrix([\n",
      "[1,   1,    1,   1,    1],\n",
      "[0,   1,    0,  -1,    0],\n",
      "[0,   0,    1,   0,   -1],\n",
      "[0, 1/2,  1/2, 1/2,  1/2],\n",
      "[0, 1/2, -1/2, 1/2, -1/2]])]\n",
      "invM = [Matrix([\n",
      "[1,    0,    0,  -2,    0],\n",
      "[0,  1/2,    0, 1/2,  1/2],\n",
      "[0,    0,  1/2, 1/2, -1/2],\n",
      "[0, -1/2,    0, 1/2,  1/2],\n",
      "[0,    0, -1/2, 1/2, -1/2]])]\n",
      "\n"
     ]
    }
   ],
   "source": [
    "import sympy as sp\n",
    "\n",
    "def solution(x, y, t):\n",
    "    return np.sin(np.pi*x)*np.sin(np.pi*y)*np.exp(-2*np.pi**2*mu*t)\n",
    "\n",
    "# parameters\n",
    "mu = 1.\n",
    "la = 1./dx\n",
    "s1 = 2./(1+4*mu)\n",
    "s2 = 1.\n",
    "u, X, Y = sp.symbols('u, X, Y')\n",
    "\n",
    "dico_sch = {\n",
    "    'dim':2,\n",
    "    'scheme_velocity':la,\n",
    "    'schemes':[\n",
    "        {\n",
    "            'velocities':range(5),\n",
    "            'conserved_moments':u,\n",
    "            'polynomials':[1, X, Y, (X**2+Y**2)/2, (X**2-Y**2)/2],\n",
    "            'equilibrium':[u, 0., 0., .5*u, 0.],\n",
    "            'relaxation_parameters':[0., s1, s1, s2, s2],\n",
    "            'init':{u:(solution, (0.,))},\n",
    "        }\n",
    "    ],\n",
    "}\n",
    "\n",
    "sch = pyLBM.Scheme(dico_sch)\n",
    "print sch"
   ]
  },
  {
   "cell_type": "markdown",
   "metadata": {},
   "source": [
    "###The simulation\n",
    "\n",
    "A simulation is built by defining a correct dictionary.\n",
    "\n",
    "####Question 6\n",
    "\n",
    "Combine the previous dictionaries to build a simulation. In order to impose the homogeneous Dirichlet conditions in $x=0$, $x=1$, $y=0$, and $y=1$, the dictionary should contain the key 'boundary_conditions' (use pyLBM.bc.anti_bounce_back function)."
   ]
  },
  {
   "cell_type": "code",
   "execution_count": 5,
   "metadata": {
    "collapsed": false
   },
   "outputs": [
    {
     "name": "stdout",
     "output_type": "stream",
     "text": [
      "Simulation informations\n",
      "Domain informations\n",
      "\t spatial dimension: 2\n",
      "\t bounds of the box: bounds = [[ 0.  1.]\n",
      " [ 0.  1.]]\n",
      "\t space step: dx= 1.000e-01\n",
      "Scheme informations\n",
      "\t spatial dimension: dim=2\n",
      "\t number of schemes: nscheme=1\n",
      "\t number of velocities:\n",
      "    Stencil.nv[0]=5\n",
      "\t velocities value:\n",
      "    v[0]=(0: 0, 0), (1: 1, 0), (2: 0, 1), (3: -1, 0), (4: 0, -1), \n",
      "\t polynomials:\n",
      "    P[0]=Matrix([[1], [X], [Y], [X**2/2 + Y**2/2], [X**2/2 - Y**2/2]])\n",
      "\t equilibria:\n",
      "    EQ[0]=Matrix([[u], [0.0], [0.0], [0.5*u], [0.0]])\n",
      "\t relaxation parameters:\n",
      "    s[0]=[0.0, 0.4, 0.4, 1.0, 1.0]\n",
      "\t moments matrices\n",
      "M = [Matrix([\n",
      "[1,   1,    1,   1,    1],\n",
      "[0,   1,    0,  -1,    0],\n",
      "[0,   0,    1,   0,   -1],\n",
      "[0, 1/2,  1/2, 1/2,  1/2],\n",
      "[0, 1/2, -1/2, 1/2, -1/2]])]\n",
      "invM = [Matrix([\n",
      "[1,    0,    0,  -2,    0],\n",
      "[0,  1/2,    0, 1/2,  1/2],\n",
      "[0,    0,  1/2, 1/2, -1/2],\n",
      "[0, -1/2,    0, 1/2,  1/2],\n",
      "[0,    0, -1/2, 1/2, -1/2]])]\n",
      "\n"
     ]
    }
   ],
   "source": [
    "dico = {\n",
    "    'box':{'x':[xmin, xmax], 'y':[ymin, ymax], 'label':0},\n",
    "    'space_step':dx,\n",
    "    'scheme_velocity':la,\n",
    "    'schemes':[\n",
    "        {\n",
    "            'velocities':range(5),\n",
    "            'conserved_moments':u,\n",
    "            'polynomials':[1, X, Y, (X**2+Y**2)/2, (X**2-Y**2)/2],\n",
    "            'equilibrium':[u, 0., 0., .5*u, 0.],\n",
    "            'relaxation_parameters':[0., s1, s1, s2, s2],\n",
    "            'init':{u:(solution,(0.,))},\n",
    "        }\n",
    "    ],\n",
    "    'boundary_conditions':{\n",
    "        0:{'method':{0:pyLBM.bc.anti_bounce_back,}, 'value':None},\n",
    "    },\n",
    "}\n",
    "\n",
    "sol = pyLBM.Simulation(dico)\n",
    "print sol"
   ]
  },
  {
   "cell_type": "markdown",
   "metadata": {},
   "source": [
    "##Run a simulation\n",
    "\n",
    "Once the simulation is initialized, one time step can be performed by using the function one_time_step.\n",
    "\n",
    "####Question 7\n",
    "\n",
    "Compute the solution of the heat equation at $t=0.1$. On the same graphic, plot the initial condition, the exact solution and the numerical solution."
   ]
  },
  {
   "cell_type": "code",
   "execution_count": 6,
   "metadata": {
    "collapsed": false
   },
   "outputs": [
    {
     "data": {
      "image/png": "[encoded data removed]",
      "text/plain": [
       "<matplotlib.figure.Figure at 0x7f3175d3cb50>"
      ]
     },
     "metadata": {},
     "output_type": "display_data"
    }
   ],
   "source": [
    "import numpy as np\n",
    "import sympy as sp\n",
    "import pylab as plt\n",
    "%matplotlib inline\n",
    "from mpl_toolkits.axes_grid1 import make_axes_locatable\n",
    "import pyLBM\n",
    "\n",
    "u, X, Y = sp.symbols('u, X, Y')\n",
    "\n",
    "def solution(x, y, t, k, l):\n",
    "    return np.sin(k*np.pi*x)*np.sin(l*np.pi*y)*np.exp(-(k**2+l**2)*np.pi**2*mu*t)\n",
    "\n",
    "def plot(i, j, z, title):\n",
    "    im = axarr[i,j].imshow(z)\n",
    "    divider = make_axes_locatable(axarr[i, j])\n",
    "    cax = divider.append_axes(\"right\", size=\"20%\", pad=0.05)\n",
    "    cbar = plt.colorbar(im, cax=cax, format='%6.0e')\n",
    "    axarr[i, j].xaxis.set_visible(False)\n",
    "    axarr[i, j].yaxis.set_visible(False)\n",
    "    axarr[i, j].set_title(title)\n",
    "\n",
    "# parameters\n",
    "xmin, xmax, ymin, ymax = 0., 1., 0., 1.\n",
    "N = 128\n",
    "mu = 1.\n",
    "Tf = .1\n",
    "dx = (xmax-xmin)/N # spatial step\n",
    "la = 1./dx\n",
    "s1 = 2./(1+4*mu)\n",
    "s2 = 1.\n",
    "k, l = 1, 1 # number of the wave\n",
    "\n",
    "dico = {\n",
    "    'box':{'x':[xmin, xmax], 'y':[ymin, ymax], 'label':0},\n",
    "    'space_step':dx,\n",
    "    'scheme_velocity':la,\n",
    "    'schemes':[\n",
    "        {\n",
    "            'velocities':range(5),\n",
    "            'conserved_moments':u,\n",
    "            'polynomials':[1, X, Y, (X**2+Y**2)/2, (X**2-Y**2)/2],\n",
    "            'equilibrium':[u, 0., 0., .5*u, 0.],\n",
    "            'relaxation_parameters':[0., s1, s1, s2, s2],\n",
    "            'init':{u:(solution,(0.,k,l))},\n",
    "        }\n",
    "    ],\n",
    "    'boundary_conditions':{\n",
    "        0:{'method':{0:pyLBM.bc.anti_bounce_back,}, 'value':None},\n",
    "    },\n",
    "    'generator':pyLBM.generator.CythonGenerator,\n",
    "}\n",
    "\n",
    "sol = pyLBM.Simulation(dico)\n",
    "x = sol.domain.x[0][1:-1]\n",
    "y = sol.domain.x[1][1:-1]\n",
    "\n",
    "f, axarr = plt.subplots(2, 2)\n",
    "f.suptitle('Heat equation', fontsize=20)\n",
    "\n",
    "plot(0, 0, sol.m[0][0][1:-1,1:-1].copy(), 'initial')\n",
    "\n",
    "while sol.t < Tf:\n",
    "    sol.one_time_step()\n",
    "\n",
    "sol.f2m()\n",
    "z = sol.m[0][0][1:-1,1:-1]\n",
    "ze = solution(x[:,np.newaxis], y[np.newaxis,:], sol.t, k, l)\n",
    "plot(1, 0, z, 'final')\n",
    "plot(0, 1, ze, 'exact')\n",
    "plot(1, 1, z-ze, 'error')\n",
    "\n",
    "plt.show()"
   ]
  },
  {
   "cell_type": "code",
   "execution_count": 7,
   "metadata": {
    "collapsed": false
   },
   "outputs": [
    {
     "data": {
      "text/html": [
       "<link href='http://fonts.googleapis.com/css?family=Fenix' rel='stylesheet' type='text/css'>\n",
       "<link href='http://fonts.googleapis.com/css?family=Alegreya+Sans:100,300,400,500,700,800,900,100italic,300italic,400italic,500italic,700italic,800italic,900italic' rel='stylesheet' type='text/css'>\n",
       "<link href='http://fonts.googleapis.com/css?family=Source+Code+Pro:300,400' rel='stylesheet' type='text/css'>\n",
       "<style>\n",
       "    @font-face {\n",
       "        font-family: \"Computer Modern\";\n",
       "        src: url('http://mirrors.ctan.org/fonts/cm-unicode/fonts/otf/cmunss.otf');\n",
       "    }\n",
       "    div.cell{\n",
       "        width:85%;/*800px;*/\n",
       "        margin-left:5% !important;\n",
       "        /*margin-right:auto;*/\n",
       "    }\n",
       "    h1, h2, h3, h4, h5 {\n",
       "        font-family: 'Alegreya Sans', sans-serif;\n",
       "    }\n",
       "    div.text_cell_render{\n",
       "        font-family: 'Alegreya Sans',Computer Modern, \"Helvetica Neue\", Arial, Helvetica, Geneva, sans-serif;\n",
       "        line-height: 135%;\n",
       "        font-size: 120%;\n",
       "        width:100%;/*600px;*/\n",
       "        /*margin-left:auto;*/\n",
       "        /*margin-right:auto;*/\n",
       "    }\n",
       "    .CodeMirror{\n",
       "            font-family: \"Source Code Pro\";\n",
       "\t\t\tfont-size: 100%;\n",
       "    }\n",
       "    .text_cell_render p{\n",
       "        text-align: justify;\n",
       "    }\n",
       "    .text_cell_render h1 {\n",
       "        font-weight: 200;\n",
       "\t\tline-height: 100%;\n",
       "        color:#CD2305;\n",
       "        margin-bottom: 0.5em;\n",
       "        margin-top: 0.5em;\n",
       "        display: block;\n",
       "        font-size: 400%;\n",
       "        text-align: center;\n",
       "        border-bottom: 1px solid #CD2305;\n",
       "        border-top: 1px solid #CD2305;\n",
       "    }\n",
       "    .text_cell_render h2 {\n",
       "        font-weight: 200;\n",
       "\t\tline-height: 100%;\n",
       "        color:#CD2305;\n",
       "        margin-bottom: 0.5em;\n",
       "        margin-top: 0.5em;\n",
       "        display: block;\n",
       "        font-size: 300%;\n",
       "        border-bottom: 1px solid #CD2305;\n",
       "    }\n",
       "    .text_cell_render h3 {\n",
       "        font-weight: 200;\n",
       "\t\tline-height: 100%;\n",
       "        color:#CD2305;\n",
       "        margin-bottom: 0.5em;\n",
       "        margin-top: 0.5em;\n",
       "        display: block;\n",
       "        font-size: 200%;\n",
       "    }\n",
       "    .text_cell_render h4 {\n",
       "        font-style: italic;\n",
       "        font-weight: bold;\n",
       "\t\tline-height: 100%;\n",
       "        color:#CD2305;\n",
       "        display: block;\n",
       "        font-size: 100%;\n",
       "    }\n",
       "    .text_cell_render h5 {\n",
       "        font-weight: 200;\n",
       "\t\tline-height: 100%;\n",
       "        color:#CD2305;\n",
       "        margin-bottom: 0.5em;\n",
       "        margin-top: 0.5em;\n",
       "        display: block;\n",
       "        font-size: 100%;\n",
       "    }\n",
       "    .text_cell_render ul {list-style-type: square;}\n",
       "    .warning{\n",
       "        color: rgb( 240, 20, 20 )\n",
       "        }\n",
       "</style>\n",
       "\n",
       "<script>\n",
       "    MathJax.Hub.Config({\n",
       "                        TeX: {\n",
       "                           extensions: [\"AMSmath.js\"],\n",
       "                           },\n",
       "                tex2jax: {\n",
       "                    inlineMath: [ ['$','$'], [\"\\\\(\",\"\\\\)\"] ],\n",
       "                    displayMath: [ ['$$','$$'], [\"\\\\[\",\"\\\\]\"] ]\n",
       "                },\n",
       "                displayAlign: 'center', // Change this to 'center' to center equations.\n",
       "                \"HTML-CSS\": {\n",
       "                    styles: {'.MathJax_Display': {\"margin\": 4}}\n",
       "                }\n",
       "        });\n",
       "</script>\n"
      ],
      "text/plain": [
       "<IPython.core.display.HTML object>"
      ]
     },
     "execution_count": 7,
     "metadata": {},
     "output_type": "execute_result"
    }
   ],
   "source": [
    "from IPython.core.display import HTML\n",
    "def css_styling():\n",
    "    styles = open(\"./custom.css\", \"r\").read()\n",
    "    return HTML(styles)\n",
    "css_styling()"
   ]
  }
 ],
 "metadata": {
  "kernelspec": {
   "display_name": "Python 2",
   "language": "python",
   "name": "python2"
  },
  "language_info": {
   "codemirror_mode": {
    "name": "ipython",
    "version": 2
   },
   "file_extension": ".py",
   "mimetype": "text/x-python",
   "name": "python",
   "nbconvert_exporter": "python",
   "pygments_lexer": "ipython2",
   "version": "2.7.10"
  }
 },
 "nbformat": 4,
 "nbformat_minor": 0
}
