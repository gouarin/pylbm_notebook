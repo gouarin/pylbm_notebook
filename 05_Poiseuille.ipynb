{
 "cells": [
  {
   "cell_type": "markdown",
   "metadata": {},
   "source": [
    "#Poiseuille flow\n",
    "\n",
    "$$\n",
    "\\newcommand{\\DdQq}[2]{{\\mathrm D}_{#1}{\\mathrm Q}_{#2}}\n",
    "\\newcommand{\\drondt}{\\partial_t}\n",
    "\\newcommand{\\drondx}{\\partial_x}\n",
    "\\newcommand{\\drondy}{\\partial_y}\n",
    "\\newcommand{\\drondtt}{\\partial_{tt}}\n",
    "\\newcommand{\\drondxx}{\\partial_{xx}}\n",
    "\\newcommand{\\drondyy}{\\partial_{yy}}\n",
    "\\newcommand{\\dx}{\\Delta x}\n",
    "\\newcommand{\\dt}{\\Delta t}\n",
    "\\newcommand{\\grandO}{{\\mathcal O}}\n",
    "\\newcommand{\\density}[2]{\\,f_{#1}^{#2}}\n",
    "\\newcommand{\\fk}[1]{\\density{#1}{\\vphantom{\\star}}}\n",
    "\\newcommand{\\fks}[1]{\\density{#1}{\\star}}\n",
    "\\newcommand{\\moment}[2]{\\,m_{#1}^{#2}}\n",
    "\\newcommand{\\mk}[1]{\\moment{#1}{\\vphantom{\\star}}}\n",
    "\\newcommand{\\mke}[1]{\\moment{#1}{e}}\n",
    "\\newcommand{\\mks}[1]{\\moment{#1}{\\star}}\n",
    "$$\n",
    "\n",
    "In this pratical work session, we consider the classical $\\DdQq{2}{9}$ to simulate a Poiseuille flow modeling by the Navier-Stokes equations."
   ]
  },
  {
   "cell_type": "markdown",
   "metadata": {},
   "source": [
    "##The $\\DdQq{2}{9}$ for Navier-Stokes\n",
    "\n",
    "The $\\DdQq{2}{9}$ is defined by:\n",
    "* a space step $\\dx$ and a time step $\\dt$ related to the scheme velocity $\\lambda$ by the relation $\\lambda=\\dx/\\dt$,\n",
    "* nine velocities $\\{(0,0), (\\pm1,0), (0,\\pm1), (\\pm1, \\pm1)\\}$, identified in pyLBM by the numbers $0$ to $8$,\n",
    "* nine polynomials used to build the moments\n",
    "$$ \\{1, \\lambda X, \\lambda Y, 3E-4, (9E^2-21E+8)/2, 3XE-5X, 3YE-5Y,X^2-Y^2, XY\\},$$\n",
    "where $E = X^2+Y^2$.\n",
    "* three conserved moments $\\rho$, $q_x$, and $q_y$,\n",
    "* nine relaxation parameters (three are $0$ corresponding to conserved moments): $\\{0,0,0,s_\\mu,s_\\mu,s_\\eta,s_\\eta,s_\\eta,s_\\eta\\}$, where $s_\\mu$ and $s_\\eta$ are in $(0,2)$,\n",
    "* equilibrium value of the non conserved moments\n",
    "\\begin{align}\\mke{3} &= -2\\rho + 3(q_x^2+q_y^2)/(\\rho_0\\lambda^2), \\\\ \\mke{4} &= \\rho+3(q_x^2+q_y^2)/(2\\rho_0\\lambda^2), \\\\ \\mke{5} &= -q_x/\\lambda, \\\\ \\mke{6} &= -q_y/\\lambda, \\\\ \\mke{7} &= (q_x^2-q_y^2)/(\\rho_0\\lambda^2), \\\\ \\mke{8} &= q_xq_y/(\\rho_0\\lambda^2),\\end{align}\n",
    "where $\\rho_0$ is a given scalar.\n",
    "\n",
    "This scheme is consistant at second order with the following equations (taken $\\rho_0=1$)\n",
    "\\begin{gather*} \\drondt\\rho + \\drondx q_x + \\drondy q_y = 0,\\\\ \\drondt q_x + \\drondx (q_x^2+p) + \\drondy (q_xq_y) = \\mu \\drondx (\\drondx q_x + \\drondy q_y ) + \\eta (\\drondxx+\\drondyy)q_x, \\\\ \\drondt q_y + \\drondx (q_xq_y) + \\drondy (q_y^2+p) = \\mu \\drondy (\\drondx q_x + \\drondy q_y ) + \\eta (\\drondxx+\\drondyy)q_y,\\end{gather*}\n",
    "with $p=\\rho\\lambda^2/3$."
   ]
  },
  {
   "cell_type": "markdown",
   "metadata": {},
   "source": [
    "##Build the simulation with pyLBM\n",
    "\n",
    "In the following, we build the dictionary of the simulation step by step.\n",
    "\n",
    "###The geometry\n",
    "\n",
    "The simulation is done on a rectangle of length $L$ and width $W$. We can use $L=W=1$.\n",
    "\n",
    "####Question 1\n",
    "\n",
    "Propose a dictionary that build the geometry of the domain. Visualize it. The labels of the bounds can be specified to different values for the moment."
   ]
  },
  {
   "cell_type": "code",
   "execution_count": null,
   "metadata": {
    "collapsed": true
   },
   "outputs": [],
   "source": []
  },
  {
   "cell_type": "markdown",
   "metadata": {},
   "source": [
    "###The stencil\n",
    "\n",
    "The stencil of the $\\DdQq{2}{9}$ is composed by the nine following velocities in 2D:\n",
    "\\begin{gather*}v_0=(0,0),\\\\ v_1=(1,0), \\quad v_2=(0,1), \\quad v_3=(-1,0), \\quad v_4=(0,-1), \\\\ v_5=(1,1), \\quad v_6=(-1,1), \\quad v_7=(-1,-1), \\quad v_8=(1,-1).\\end{gather*}\n",
    "\n",
    "####Question 2\n",
    "\n",
    "Propose a dictionary that build the stencil of the velocities. Visualize it."
   ]
  },
  {
   "cell_type": "code",
   "execution_count": null,
   "metadata": {
    "collapsed": true
   },
   "outputs": [],
   "source": []
  },
  {
   "cell_type": "markdown",
   "metadata": {},
   "source": [
    "###The domain\n",
    "\n",
    "In order to build the domain of the simulation, the dictionary should contain the space step $\\dx$ and the stencils of the velocities (one for each scheme). \n",
    "\n",
    "####Question 3\n",
    "\n",
    "Propose a dictionary for the domain with few points in space. Visualize it."
   ]
  },
  {
   "cell_type": "code",
   "execution_count": null,
   "metadata": {
    "collapsed": true
   },
   "outputs": [],
   "source": []
  },
  {
   "cell_type": "markdown",
   "metadata": {},
   "source": [
    "###The scheme\n",
    "\n",
    "In pyLBM, a simulation can be performed by using several coupled schemes. In this example, a single scheme is used and defined through a list of one single dictionary. This dictionary should contain:\n",
    "\n",
    "* 'velocities': a list of the velocities\n",
    "* 'conserved_moments': a list of the conserved moments as sympy variables\n",
    "* 'polynomials': a list of the polynomials that define the moments\n",
    "* 'equilibrium': a list of the equilibrium value of all the moments\n",
    "* 'relaxation_parameters': a list of the relaxation parameters ($0$ for the conserved moments)\n",
    "* 'init': a dictionary to initialize the conserved moments\n",
    "\n",
    "(see the documentation for more details)\n",
    "\n",
    "In order to fix the bulk ($\\mu$) and the shear ($\\eta$) viscosities, we impose\n",
    "$$ s_\\eta = \\frac{2}{1+\\eta d}, \\qquad s_\\mu = \\frac{2}{1+\\mu d}, \\qquad d = \\frac{6}{\\lambda\\rho_0\\dx}.$$\n",
    "\n",
    "####Question 4\n",
    "\n",
    "Propose a dictionary for the scheme. The scheme velocity could be taken to $1$ and the inital value of $\\rho$ to $\\rho_0=1$, $q_x$ and $q_y$ to $0$.\n",
    "\n",
    "####Question 5\n",
    "\n",
    "In order to accelerate the simulation, we can use another generator. The default generator is Numpy (pure python). Use for instance Cython that generates a more efficient code. This generator can be activated by using  'generator': pyLBM.generator.CythonGenerator in the dictionary."
   ]
  },
  {
   "cell_type": "code",
   "execution_count": null,
   "metadata": {
    "collapsed": true
   },
   "outputs": [],
   "source": []
  },
  {
   "cell_type": "markdown",
   "metadata": {},
   "source": [
    "##Run the simulation\n",
    "\n",
    "For the simulation, we take \n",
    "* The domain $x\\in(0, L)$ and $y\\in(-W/2,W/2)$, $L=2$, $W=1$,\n",
    "* the viscosities $\\mu=10^{-2}=\\eta=10^{-2}$, \n",
    "* the space step $\\dx=1/128$, the scheme velocity $\\lambda=1$, \n",
    "* the mean density $\\rho_0=1$.\n",
    "\n",
    "Concerning the boundary conditions, we impose the velocity on all the edges by a bounce-back condition with a source term that reads\n",
    "$$q_x(x, y) = \\rho_0 v_{\\text{max}} \\Bigl( 1 - \\frac{4y^2}{W^2} \\Bigr), \\qquad q_y(x, y) = 0,$$\n",
    "with $v_{\\text{max}}=0.1$.\n",
    "\n",
    "####Question 5\n",
    "\n",
    "Propose a dictionary for the simulation. Compute the solution for $t\\in(0,50)$.\n",
    "Plot several slices of the solution during the simulation. \n",
    "\n",
    "This problem has an exact solution given by\n",
    "$$ q_x = \\rho_0 v_{\\text{max}} \\Bigl( 1 - \\frac{4y^2}{W^2} \\Bigr), \\qquad q_y = 0, \\qquad p = p_0 + K x, $$\n",
    "where the pressure gradient $K$ reads\n",
    "$$K = -\\frac{8 v_{\\text{max}} \\eta}{W^2}.$$\n",
    "\n",
    "####Question 6\n",
    "\n",
    "Compute the exact and the numerical gradients of the pressure. Modify the relaxation parameters in order to test the accuracy of the scheme."
   ]
  },
  {
   "cell_type": "code",
   "execution_count": null,
   "metadata": {
    "collapsed": true
   },
   "outputs": [],
   "source": []
  },
  {
   "cell_type": "code",
   "execution_count": 1,
   "metadata": {
    "collapsed": false
   },
   "outputs": [
    {
     "data": {
      "text/html": [
       "<link href='http://fonts.googleapis.com/css?family=Fenix' rel='stylesheet' type='text/css'>\n",
       "<link href='http://fonts.googleapis.com/css?family=Alegreya+Sans:100,300,400,500,700,800,900,100italic,300italic,400italic,500italic,700italic,800italic,900italic' rel='stylesheet' type='text/css'>\n",
       "<link href='http://fonts.googleapis.com/css?family=Source+Code+Pro:300,400' rel='stylesheet' type='text/css'>\n",
       "<style>\n",
       "    @font-face {\n",
       "        font-family: \"Computer Modern\";\n",
       "        src: url('http://mirrors.ctan.org/fonts/cm-unicode/fonts/otf/cmunss.otf');\n",
       "    }\n",
       "    div.cell{\n",
       "        width:85%;/*800px;*/\n",
       "        margin-left:5% !important;\n",
       "        /*margin-right:auto;*/\n",
       "    }\n",
       "    h1, h2, h3, h4, h5 {\n",
       "        font-family: 'Alegreya Sans', sans-serif;\n",
       "    }\n",
       "    div.text_cell_render{\n",
       "        font-family: 'Alegreya Sans',Computer Modern, \"Helvetica Neue\", Arial, Helvetica, Geneva, sans-serif;\n",
       "        line-height: 135%;\n",
       "        font-size: 120%;\n",
       "        width:100%;/*600px;*/\n",
       "        /*margin-left:auto;*/\n",
       "        /*margin-right:auto;*/\n",
       "    }\n",
       "    .CodeMirror{\n",
       "            font-family: \"Source Code Pro\";\n",
       "\t\t\tfont-size: 100%;\n",
       "    }\n",
       "    .text_cell_render p{\n",
       "        text-align: justify;\n",
       "    }\n",
       "    .text_cell_render h1 {\n",
       "        font-weight: 200;\n",
       "\t\tline-height: 100%;\n",
       "        color:#CD2305;\n",
       "        margin-bottom: 0.5em;\n",
       "        margin-top: 0.5em;\n",
       "        display: block;\n",
       "        font-size: 400%;\n",
       "        text-align: center;\n",
       "        border-bottom: 1px solid #CD2305;\n",
       "        border-top: 1px solid #CD2305;\n",
       "    }\n",
       "    .text_cell_render h2 {\n",
       "        font-weight: 200;\n",
       "\t\tline-height: 100%;\n",
       "        color:#CD2305;\n",
       "        margin-bottom: 0.5em;\n",
       "        margin-top: 0.5em;\n",
       "        display: block;\n",
       "        font-size: 300%;\n",
       "        border-bottom: 1px solid #CD2305;\n",
       "    }\n",
       "    .text_cell_render h3 {\n",
       "        font-weight: 200;\n",
       "\t\tline-height: 100%;\n",
       "        color:#CD2305;\n",
       "        margin-bottom: 0.5em;\n",
       "        margin-top: 0.5em;\n",
       "        display: block;\n",
       "        font-size: 200%;\n",
       "    }\n",
       "    .text_cell_render h4 {\n",
       "        font-style: italic;\n",
       "        font-weight: bold;\n",
       "\t\tline-height: 100%;\n",
       "        color:#CD2305;\n",
       "        display: block;\n",
       "        font-size: 100%;\n",
       "    }\n",
       "    .text_cell_render h5 {\n",
       "        font-weight: 200;\n",
       "\t\tline-height: 100%;\n",
       "        color:#CD2305;\n",
       "        margin-bottom: 0.5em;\n",
       "        margin-top: 0.5em;\n",
       "        display: block;\n",
       "        font-size: 100%;\n",
       "    }\n",
       "    .text_cell_render ul {list-style-type: square;}\n",
       "    .warning{\n",
       "        color: rgb( 240, 20, 20 )\n",
       "        }\n",
       "</style>\n",
       "\n",
       "<script>\n",
       "    MathJax.Hub.Config({\n",
       "                        TeX: {\n",
       "                           extensions: [\"AMSmath.js\"],\n",
       "                           },\n",
       "                tex2jax: {\n",
       "                    inlineMath: [ ['$','$'], [\"\\\\(\",\"\\\\)\"] ],\n",
       "                    displayMath: [ ['$$','$$'], [\"\\\\[\",\"\\\\]\"] ]\n",
       "                },\n",
       "                displayAlign: 'center', // Change this to 'center' to center equations.\n",
       "                \"HTML-CSS\": {\n",
       "                    styles: {'.MathJax_Display': {\"margin\": 4}}\n",
       "                }\n",
       "        });\n",
       "</script>\n"
      ],
      "text/plain": [
       "<IPython.core.display.HTML object>"
      ]
     },
     "execution_count": 1,
     "metadata": {},
     "output_type": "execute_result"
    }
   ],
   "source": [
    "from IPython.core.display import HTML\n",
    "def css_styling():\n",
    "    styles = open(\"./custom.css\", \"r\").read()\n",
    "    return HTML(styles)\n",
    "css_styling()"
   ]
  }
 ],
 "metadata": {
  "kernelspec": {
   "display_name": "Python 2",
   "language": "python",
   "name": "python2"
  },
  "language_info": {
   "codemirror_mode": {
    "name": "ipython",
    "version": 2
   },
   "file_extension": ".py",
   "mimetype": "text/x-python",
   "name": "python",
   "nbconvert_exporter": "python",
   "pygments_lexer": "ipython2",
   "version": "2.7.10"
  }
 },
 "nbformat": 4,
 "nbformat_minor": 0
}
