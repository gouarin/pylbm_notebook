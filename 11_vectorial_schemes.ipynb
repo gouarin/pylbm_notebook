{
 "cells": [
  {
   "cell_type": "markdown",
   "metadata": {},
   "source": [
    "#The vectorial schemes for hyperbolic problems\n",
    "\n",
    "$$\n",
    "\\newcommand{\\R}{{\\mathbb R}}\n",
    "\\newcommand{\\DdQq}[2]{{\\mathrm D}_{#1}{\\mathrm Q}_{#2}}\n",
    "\\newcommand{\\drondt}{\\partial_t}\n",
    "\\newcommand{\\drondx}{\\partial_x}\n",
    "\\newcommand{\\drondy}{\\partial_y}\n",
    "\\newcommand{\\drondtt}{\\partial_{tt}}\n",
    "\\newcommand{\\drondxx}{\\partial_{xx}}\n",
    "\\newcommand{\\dx}{\\Delta x}\n",
    "\\newcommand{\\dt}{\\Delta t}\n",
    "\\newcommand{\\grandO}{{\\mathcal O}}\n",
    "\\newcommand{\\density}[2]{\\,f_{#1}^{#2}}\n",
    "\\newcommand{\\fk}[1]{\\density{#1}{\\vphantom{\\star}}}\n",
    "\\newcommand{\\fks}[1]{\\density{#1}{\\star}}\n",
    "\\newcommand{\\moment}[2]{\\,m_{#1}^{#2}}\n",
    "\\newcommand{\\mk}[1]{\\moment{#1}{\\vphantom{\\star}}}\n",
    "\\newcommand{\\mke}[1]{\\moment{#1}{e}}\n",
    "\\newcommand{\\mks}[1]{\\moment{#1}{\\star}}\n",
    "$$\n",
    "\n",
    "Consider the conservative hyperbolic problem\n",
    "$$\\drondt u(t,x) + \\drondx {\\cdot} f(u(t,x)) = 0, \\qquad t>0, \\quad x\\in\\R^d,$$\n",
    "where $u(t,x)\\in\\R^N$.\n",
    "\n",
    "A vectorial scheme can be build by coupling $N$ elementary Boltzmann schemes, one for each scalar equation. The coupling takes place in the relaxation phase and in particular in the equilibrium values of the non conserved moments.\n",
    "\n",
    "In this work session, we investigate some classical hyperbolic systems like the shallow water and the Euler systems. "
   ]
  },
  {
   "cell_type": "markdown",
   "metadata": {},
   "source": [
    "##Shallow water in 1D\n",
    "\n",
    "The system reads\n",
    "$$\\begin{aligned}&\\drondt h + \\drondx q = 0, \\\\ &\\drondt q + \\drondx(q^2/h+gh^2/2) = 0, \\end {aligned}$$\n",
    "where $g$ can be taken to $1$.\n",
    "The simulation will be done on $(0,1)$ and Neumann boundary conditions will be added.\n",
    "\n",
    "####Question 1\n",
    "\n",
    "Propose a dictionary for a vectorial scheme build with two coupled $\\DdQq{1}{2}$ for the simulation of this problem. The velocity of the scheme could be taken to $2$."
   ]
  },
  {
   "cell_type": "code",
   "execution_count": null,
   "metadata": {
    "collapsed": false
   },
   "outputs": [],
   "source": [
    "import sympy as sp\n",
    "import pyLBM\n",
    "\n",
    "h, q, X, LA, g = sp.symbols('h, q, X, LA, g')\n",
    "la = 2.              # velocity of the scheme\n",
    "s_h, s_q = 1.7, 1.7  # relaxation parameter\n",
    "\n",
    "dico = {\n",
    "\n",
    "}\n",
    "scheme = pyLBM.Scheme(dico)\n",
    "print scheme"
   ]
  },
  {
   "cell_type": "markdown",
   "metadata": {},
   "source": [
    "####Question 2\n",
    "\n",
    "Propose a function to initialize with the Riemann problem:\n",
    "$$h(0,x) = \\left\\{ \\begin{aligned} h_L &&\\text{if } 0\\leq x<1/2,\\\\ h_R &&\\text{if } 1/2<x\\leq 1,  \\end{aligned}\\right. \\qquad q(0,x) = \\left\\{ \\begin{aligned} q_L &&\\text{if } 0\\leq x<1/2,\\\\ q_R &&\\text{if } 1/2<x\\leq 1,  \\end{aligned}\\right.$$\n",
    "with $h_L=1$, $h_R=1/4$, $q_L=q_R=1/10$."
   ]
  },
  {
   "cell_type": "code",
   "execution_count": null,
   "metadata": {
    "collapsed": true
   },
   "outputs": [],
   "source": []
  },
  {
   "cell_type": "markdown",
   "metadata": {},
   "source": [
    "####Question 3\n",
    "\n",
    "Compute the solution of the shallow water system with the previous scheme at $t=0.25$."
   ]
  },
  {
   "cell_type": "code",
   "execution_count": null,
   "metadata": {
    "collapsed": false
   },
   "outputs": [],
   "source": [
    "import pylab as plt\n",
    "%matplotlib inline\n",
    "\n",
    "dx = 1./512          # spatial step\n",
    "s_h, s_q = 1.7, 1.5  # relaxation parameter\n",
    "Tf = 0.25            # final time\n",
    "\n",
    "dico = {\n",
    "\n",
    "}\n",
    "\n",
    "sol = pyLBM.Simulation(dico)\n",
    "x = sol.domain.x[0][1:-1]\n",
    "plt.figure()\n",
    "plt.clf()\n",
    "plt.subplot(1,2,1)\n",
    "plt.plot(x, sol.m[0][0][1:-1], 'k')\n",
    "plt.title(r'$h$')\n",
    "plt.subplot(1,2,2)\n",
    "plt.plot(x, sol.m[1][0][1:-1], 'k')\n",
    "plt.title(r'$q$')\n",
    "while (sol.t<Tf):\n",
    "    sol.one_time_step()\n",
    "plt.subplot(1,2,1)\n",
    "plt.plot(x, sol.m[0][0][1:-1], 'r')\n",
    "plt.subplot(1,2,2)\n",
    "plt.plot(x, sol.m[1][0][1:-1], 'b')\n",
    "plt.show()"
   ]
  },
  {
   "cell_type": "markdown",
   "metadata": {},
   "source": [
    "##Euler in 1D\n",
    "\n",
    "The Euler system reads\n",
    "$$\\begin{aligned}&\\drondt \\rho + \\drondx q = 0,\\\\ &\\drondt q + \\drondx \\Bigl[ (\\gamma-1)E + \\frac{3-\\gamma}{2} \\frac{q^2}{\\rho} \\Bigr] = 0,\\\\ &\\drondt E + \\drondx \\Bigl[ \\gamma\\frac{Eq}{\\rho} - \\frac{\\gamma-1}{2} \\frac{q^3}{\\rho^2}\\Bigr] = 0, \\end{aligned}$$\n",
    "where $\\gamma=1.4$ for instance.\n",
    "\n",
    "####Question 4\n",
    "\n",
    "Compute the solution of this system by using a vectorial scheme composed by $3$ coupled $\\DdQq{1}{2}$. The initial condition could be a Riemann problem to simulate the shock tube of Sod corresponding to\n",
    "$$\\rho_L = 1, \\rho_R=\\frac{1}{8}, p_L=1, p_R=\\frac{1}{10}, u_L=u_R = 0,$$\n",
    "with\n",
    "$$q = \\rho u, \\quad E = \\rho u^2 + \\frac{p}{\\gamma-1}.$$"
   ]
  },
  {
   "cell_type": "code",
   "execution_count": null,
   "metadata": {
    "collapsed": false
   },
   "outputs": [],
   "source": [
    "import sympy as sp\n",
    "import pyLBM\n",
    "#import pylab as plt\n",
    "%matplotlib inline\n",
    "\n",
    "def Riemann_pb(x, u_L, u_R):\n",
    "    pass\n",
    "\n",
    "# parameters\n",
    "rho, q, E, X, LA = sp.symbols('rho,q,E,X,LA')\n",
    "# parameters\n",
    "gamma = 1.4\n",
    "xmin, xmax = 0., 1.\n",
    "dx = 1.e-3 # spatial step\n",
    "la = 3. # velocity of the scheme\n",
    "rho_L, rho_R, p_L, p_R, u_L, u_R = 1., 1./8., 1., 0.1, 0., 0.\n",
    "q_L = rho_L*u_L\n",
    "q_R = rho_R*u_R\n",
    "E_L = rho_L*u_L**2 + p_L/(gamma-1.)\n",
    "E_R = rho_R*u_R**2 + p_R/(gamma-1.)\n",
    "Tf = 0.14 # final time\n",
    "s_rho, s_q, s_E = 1.9, 1.5, 1.4\n",
    "\n",
    "dico = {\n",
    "\n",
    "}\n",
    "\n",
    "sol = pyLBM.Simulation(dico)\n",
    "while (sol.t<Tf):\n",
    "    sol.one_time_step()\n",
    "sol.f2m()\n",
    "x = sol.domain.x[0][1:-1]\n",
    "rho = sol.m[0][0][1:-1]\n",
    "q = sol.m[1][0][1:-1]\n",
    "E = sol.m[2][0][1:-1]\n",
    "u = q/rho\n",
    "p = (gamma-1.)*(E - .5*rho*u**2)\n",
    "e = E/rho - .5*u**2\n",
    "viewer = pyLBM.viewer.matplotlibViewer\n",
    "fig = viewer.Fig(2,3)\n",
    "lrho = fig[0,0].plot(x, rho, width=2, color='k')[0]\n",
    "fig[0,0].axis(xmin, xmax, 0., 1.2)\n",
    "fig[0,0].title = 'mass'\n",
    "lu = fig[0,1].plot(x, u, width=2, color='k')[0]\n",
    "fig[0,1].axis(xmin, xmax, 0., 1.)\n",
    "fig[0,1].title = 'velocity'\n",
    "lp = fig[0,2].plot(x, p, width=2, color='k')[0]\n",
    "fig[0,2].axis(xmin, xmax, 0., 1.2)\n",
    "fig[0,2].title = 'pressure'\n",
    "lE = fig[1,0].plot(x, E, width=2, color='k')[0]\n",
    "fig[1,0].axis(xmin, xmax, 0., 3.)\n",
    "fig[1,0].title = 'energy'\n",
    "lq = fig[1,1].plot(x, q, width=2, color='k')[0]\n",
    "fig[1,1].axis(xmin, xmax, 0., .5)\n",
    "fig[1,1].title = 'momentum'\n",
    "le = fig[1,2].plot(x, e, width=2, color='k')[0]\n",
    "fig[1,2].axis(xmin, xmax, 1., 3.)\n",
    "fig[1,2].title = 'internal energy'\n",
    "fig.show()"
   ]
  },
  {
   "cell_type": "markdown",
   "metadata": {},
   "source": [
    "##Shallow water  in 2D\n",
    "\n",
    "The system reads\n",
    "$$\\begin{aligned}&\\drondt h + \\drondx q_x + \\drondy q_y = 0, \\\\ &\\drondt q_x + \\drondx(q_x^2/h+gh^2/2) + \\drondy (q_xq_h/h) = 0, \\\\ &\\drondt q_y + \\drondx (q_xq_h/h) + \\drondy(q_y^2/h+gh^2/2) = 0, \\end {aligned}$$\n",
    "where $g$ can be taken to $1$.\n",
    "The simulation will be done on $(-1,1)\\times(-1,1)$ and periodical boundary conditions will be added.\n",
    "\n",
    "####Question 5\n",
    "\n",
    "Propose a vectorial scheme build with $3$ elementary $\\DdQq{2}{4}$ schemes, one for each scalar equation. The velocity of the scheme could be taken to $4$.\n",
    "\n",
    "The initialization reads\n",
    "$$h(x, y) = 1 + {\\mathbf 1}_{x^2+y^2<r^2},\\qquad q_x=q_y = 0,$$\n",
    "where $r=1/4$.\n",
    "\n",
    "####Question 6\n",
    "\n",
    "Compute the solution of the shallow water with this scheme."
   ]
  },
  {
   "cell_type": "code",
   "execution_count": null,
   "metadata": {
    "collapsed": false
   },
   "outputs": [],
   "source": [
    "import numpy as np\n",
    "import sympy as sp\n",
    "import pyLBM\n",
    "\n",
    "X, Y, LA = sp.symbols('X, Y, LA')\n",
    "h, qx, qy = sp.symbols('h, qx, qy')\n",
    "\n",
    "def h0(x, y):\n",
    "    pass\n",
    "\n",
    "# parameters\n",
    "dx = 1./128  # spatial step\n",
    "la = 4.      # velocity of the scheme\n",
    "h_l = 1.     # low value of the water height\n",
    "h_h = 2.     # high value of the water height\n",
    "L = 2        # size of the domain\n",
    "g = 1.       # gravity\n",
    "s_h1 = 2.\n",
    "s_h2 = 1.5\n",
    "s_q1 = 1.5\n",
    "s_q2 = 1.2\n",
    "# initialization\n",
    "xmin, xmax, ymin, ymax = -.5*L, .5*L, -.5*L, .5*L\n",
    "s_h = [0., s_h1, s_h1, s_h2]\n",
    "s_q = [0., s_q1, s_q1, s_q2]\n",
    "\n",
    "vitesse = range(1,5)\n",
    "polynomes = [1, LA*X, LA*Y, X**2-Y**2]\n",
    "\n",
    "dico = {\n",
    "\n",
    "}\n",
    "\n",
    "sol = pyLBM.Simulation(dico)\n",
    "while (sol.t<.5):\n",
    "    sol.one_time_step()\n",
    "sol.f2m()\n",
    "viewer = pyLBM.viewer.matplotlibViewer\n",
    "fig = viewer.Fig()\n",
    "ax = fig[0]\n",
    "im = ax.image(sol.m[0][0][1:-1,1:-1].transpose())\n",
    "ax.title = 'water height at t = {0:f}'.format(sol.t)\n",
    "fig.show()"
   ]
  },
  {
   "cell_type": "code",
   "execution_count": null,
   "metadata": {
    "collapsed": false
   },
   "outputs": [],
   "source": [
    "from IPython.core.display import HTML\n",
    "def css_styling():\n",
    "    styles = open(\"./custom.css\", \"r\").read()\n",
    "    return HTML(styles)\n",
    "css_styling()"
   ]
  },
  {
   "cell_type": "code",
   "execution_count": null,
   "metadata": {
    "collapsed": true
   },
   "outputs": [],
   "source": []
  }
 ],
 "metadata": {
  "kernelspec": {
   "display_name": "Python 2",
   "language": "python",
   "name": "python2"
  },
  "language_info": {
   "codemirror_mode": {
    "name": "ipython",
    "version": 2
   },
   "file_extension": ".py",
   "mimetype": "text/x-python",
   "name": "python",
   "nbconvert_exporter": "python",
   "pygments_lexer": "ipython2",
   "version": "2.7.10"
  }
 },
 "nbformat": 4,
 "nbformat_minor": 0
}
