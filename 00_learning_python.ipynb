{
 "cells": [
  {
   "cell_type": "markdown",
   "metadata": {},
   "source": [
    "# Introduction to Python\n",
    "\n",
    "In order to use pyLBM, the solver based on the lattice Boltzmann method, we need to acquaint ourselves with Python and its classical packages for the numerical simulations: numpy and matplotlib."
   ]
  },
  {
   "cell_type": "code",
   "execution_count": 2,
   "metadata": {
    "collapsed": false
   },
   "outputs": [
    {
     "name": "stdout",
     "output_type": "stream",
     "text": [
      "Version of python: 2.7\n"
     ]
    }
   ],
   "source": [
    "import sys\n",
    "print \"Version of python: {0}.{1}\".format(sys.version_info.major, sys.version_info.minor)"
   ]
  },
  {
   "cell_type": "markdown",
   "metadata": {},
   "source": [
    "## Basic syntax\n",
    "\n",
    "We begin with the syntax to allocate and to manipulate a variable. More sophisticated objects are lists and tuples. Then we present examples of loops and tests."
   ]
  },
  {
   "cell_type": "markdown",
   "metadata": {},
   "source": [
    "Let's define and assign two variables ``a`` and ``b``. Then we perform some basic operations. The display is done with the ``print`` command after specifying the format."
   ]
  },
  {
   "cell_type": "code",
   "execution_count": 3,
   "metadata": {
    "collapsed": false
   },
   "outputs": [
    {
     "name": "stdout",
     "output_type": "stream",
     "text": [
      "a =  2  b =  3\n",
      "a+b = 5\n",
      "a*b = 6.000000\n",
      "a^b =  8.000e+00\n"
     ]
    }
   ],
   "source": [
    "a = 2\n",
    "b = 3\n",
    "print \"a = \", a, \" b = \", b\n",
    "print \"a+b = {0:d}\".format(a+b)\n",
    "print \"a*b = {0:f}\".format(a*b)\n",
    "print \"a^b = {0:10.3e}\".format(a**b)"
   ]
  },
  {
   "cell_type": "markdown",
   "metadata": {},
   "source": [
    "The lists and the tuples are similar objects since they are used to store an arrange set of objects. Nevertheless, the elements of a list are mutable whereas the elements of a tuple are unalterable."
   ]
  },
  {
   "cell_type": "code",
   "execution_count": 4,
   "metadata": {
    "collapsed": false
   },
   "outputs": [
    {
     "name": "stdout",
     "output_type": "stream",
     "text": [
      "a = [1, 2, 3]\n",
      "b = (1, 2, 3)\n",
      "lists and tuples are not of the same type\n",
      "add two lists:  a+c = [1, 2, 3, 4, 5, 6]\n",
      "add two tuples: b+d = (1, 2, 3, 0, 1, 2)\n"
     ]
    }
   ],
   "source": [
    "a = [1, 2, 3]\n",
    "b = (1, 2, 3)\n",
    "c = [4, 5, 6]\n",
    "d = (0, 1, 2)\n",
    "print \"a =\", a\n",
    "print \"b =\", b\n",
    "try:\n",
    "    a+b\n",
    "except:\n",
    "    print \"lists and tuples are not of the same type\"\n",
    "print \"add two lists:  a+c =\", a+c\n",
    "print \"add two tuples: b+d =\", b+d"
   ]
  },
  {
   "cell_type": "markdown",
   "metadata": {},
   "source": [
    "The elements of the list or of the tuple are gotten by the brackets. In python, indices begin by 0 as in ``C``. *Warning, it is a source of recurrent errors !*"
   ]
  },
  {
   "cell_type": "code",
   "execution_count": 5,
   "metadata": {
    "collapsed": false
   },
   "outputs": [
    {
     "name": "stdout",
     "output_type": "stream",
     "text": [
      "1\n",
      "[0, 2, 3]\n",
      "[0, 2, 3, 5]\n"
     ]
    }
   ],
   "source": [
    "print a[0]\n",
    "a[0] = 0\n",
    "print a\n",
    "a.append(5)\n",
    "print a"
   ]
  },
  {
   "cell_type": "markdown",
   "metadata": {},
   "source": [
    "Let's now introduce the loops and the test with a simple example. Compute the terms of the suite defined by $u_0\\in{\\mathbb N}$ and the relation\n",
    "$$ u_{n+1} = \\left\\{ \\begin{aligned} &u_n/2 &&\\text{if $u_n$ is even,}\\\\ & 3u_n+1 && \\text{else.} \\end{aligned} \\right. $$"
   ]
  },
  {
   "cell_type": "code",
   "execution_count": 6,
   "metadata": {
    "collapsed": false
   },
   "outputs": [
    {
     "name": "stdout",
     "output_type": "stream",
     "text": [
      "u_0 = 100\n",
      "u_1 = 301\n",
      "u_2 = 150\n",
      "u_3 = 451\n",
      "u_4 = 225\n",
      "u_5 = 112\n",
      "u_6 = 337\n",
      "u_7 = 168\n",
      "u_8 = 505\n",
      "u_9 = 252\n"
     ]
    }
   ],
   "source": [
    "u = 100\n",
    "print \"u_{0:d} = {1:d}\".format(0,u)\n",
    "for k in range(1,10): \n",
    "    if (u%2):\n",
    "        u = u//2\n",
    "    else:\n",
    "        u = 3*u+1\n",
    "    print \"u_{0:d} = {1:d}\".format(k,u)"
   ]
  },
  {
   "cell_type": "code",
   "execution_count": 7,
   "metadata": {
    "collapsed": false
   },
   "outputs": [
    {
     "name": "stdout",
     "output_type": "stream",
     "text": [
      "[100, 301, 150, 451, 225, 112, 337, 168, 505, 252, 757, 378, 1135, 567, 283, 141, 70, 211, 105, 52, 157, 78, 235, 117, 58, 175, 87, 43, 21, 10, 31, 15, 7, 3, 1]\n"
     ]
    }
   ],
   "source": [
    "u = 100\n",
    "U = [u]\n",
    "while u>1:\n",
    "    if (u%2):\n",
    "        u = u//2\n",
    "    else:\n",
    "        u = 3*u+1\n",
    "    U.append(u)\n",
    "print U"
   ]
  },
  {
   "cell_type": "markdown",
   "metadata": {},
   "source": [
    "##The functions\n",
    "\n",
    "In python, define a function is very simple. Here are some examples."
   ]
  },
  {
   "cell_type": "code",
   "execution_count": 8,
   "metadata": {
    "collapsed": false
   },
   "outputs": [
    {
     "name": "stdout",
     "output_type": "stream",
     "text": [
      "f(0) =  0\n",
      "f(1) =  1\n",
      "f(2) =  4\n",
      "f(3) =  9\n",
      "f(4) = 16\n",
      "f(5) = 25\n",
      "f(6) = 36\n",
      "f(7) = 49\n",
      "f(8) = 64\n",
      "f(9) = 81\n"
     ]
    }
   ],
   "source": [
    "def f(x):\n",
    "    return x**2\n",
    "\n",
    "for x in range(10):\n",
    "    print \"f({0:1d}) = {1:2d}\".format(x, f(x))"
   ]
  },
  {
   "cell_type": "code",
   "execution_count": 9,
   "metadata": {
    "collapsed": false
   },
   "outputs": [
    {
     "name": "stdout",
     "output_type": "stream",
     "text": [
      "[0, 1, 2, 3, 1, 2, 3, 4, 2, 3, 4, 5, 3, 4, 5, 6]\n"
     ]
    }
   ],
   "source": [
    "def g(x, y):\n",
    "    return x+y\n",
    "\n",
    "L = []\n",
    "for i in range(4):\n",
    "    for j in range(4):\n",
    "        L.append(g(i, j))\n",
    "print L"
   ]
  },
  {
   "cell_type": "code",
   "execution_count": 10,
   "metadata": {
    "collapsed": false
   },
   "outputs": [
    {
     "name": "stdout",
     "output_type": "stream",
     "text": [
      "phi(0) =  0\n",
      "phi(1) =  0\n",
      "phi(2) =  6\n",
      "phi(3) = 24\n",
      "phi(4) = 60\n",
      "phi(5) = 120\n",
      "phi(6) = 210\n",
      "phi(7) = 336\n",
      "phi(8) = 504\n",
      "phi(9) = 720\n"
     ]
    }
   ],
   "source": [
    "phi = lambda x: x**3-x\n",
    "for x in range(10):\n",
    "    print \"phi({0:1d}) = {1:2d}\".format(x, phi(x))"
   ]
  },
  {
   "cell_type": "markdown",
   "metadata": {},
   "source": [
    "##The packages numpy and matplotlib\n",
    "\n",
    "Let's now present and use numpy and matplotlib, two very useful packages for scientific computation with python. Obviously, this first introduction will be completed with the other sessions.\n",
    "\n",
    "In order to use the package numpy, put this following line in the head of your scripts."
   ]
  },
  {
   "cell_type": "code",
   "execution_count": 11,
   "metadata": {
    "collapsed": true
   },
   "outputs": [],
   "source": [
    "import numpy as np"
   ]
  },
  {
   "cell_type": "markdown",
   "metadata": {},
   "source": [
    "We can define the numpy arrays with automatic instructions (``zeros``, ``ones``,...) or by changing a list into an array (``array``). Let's remark that it is possible and recommended to do vectorial computations on these numpy arrays (addition, multiplication, power, trigonometric functions,...)."
   ]
  },
  {
   "cell_type": "code",
   "execution_count": 12,
   "metadata": {
    "collapsed": false
   },
   "outputs": [
    {
     "name": "stdout",
     "output_type": "stream",
     "text": [
      "[ 0.  0.  0.]\n",
      "[[ 1.  1.  1.]]\n",
      "<type 'numpy.ndarray'>\n",
      "<type 'list'>\n",
      "<type 'numpy.ndarray'>\n",
      "[1 2 3]\n",
      "[2 3 4]\n",
      "[2 4 6]\n",
      "[1 4 9]\n",
      "[[1 2 3]\n",
      " [4 5 6]]\n",
      "[[ -1.72723371e-077  -2.00389297e+000               nan]\n",
      " [  6.92971773e-310  -1.72723371e-077   4.21532423e-309]]\n",
      "[[ 0.84147098  0.90929743  0.14112001]\n",
      " [-0.7568025  -0.95892427 -0.2794155 ]]\n",
      "[[ 0.  0.  0.]\n",
      " [ 0.  0.  0.]]\n",
      "[[ 0.  0.  0.]\n",
      " [ 0.  0.  0.]]\n",
      "[[ 1.  1.  1.]\n",
      " [ 1.  1.  1.]]\n",
      "[[ 1.  0.  0.]\n",
      " [ 0.  1.  0.]\n",
      " [ 0.  0.  1.]]\n"
     ]
    }
   ],
   "source": [
    "X, Y = np.zeros(3), np.ones((1,3))\n",
    "print X\n",
    "print Y\n",
    "\n",
    "print type(X)\n",
    "T = [1, 2, 3]\n",
    "print type(T)\n",
    "X = np.array(T)\n",
    "print type(X)\n",
    "print X \n",
    "print X+1\n",
    "print 2*X\n",
    "print X**2\n",
    "\n",
    "X = np.array([[1,2,3],[4,5,6]])\n",
    "print X\n",
    "Y = np.empty(X.shape)\n",
    "print Y\n",
    "for k in range(X.shape[0]):\n",
    "    for l in range(X.shape[1]):\n",
    "        Y[k,l] = np.sin(X[k,l])\n",
    "print Y \n",
    "print Y-np.sin(X)\n",
    "\n",
    "print np.zeros((2,3))\n",
    "print np.ones((2,3))\n",
    "print np.eye(3)"
   ]
  },
  {
   "cell_type": "markdown",
   "metadata": {},
   "source": [
    "Another very useful package is matplotlib to plot graphs."
   ]
  },
  {
   "cell_type": "code",
   "execution_count": 13,
   "metadata": {
    "collapsed": false
   },
   "outputs": [
    {
     "data": {
      "image/png": "[encoded data removed]",
      "text/plain": [
       "<matplotlib.figure.Figure at 0x106a688d0>"
      ]
     },
     "metadata": {},
     "output_type": "display_data"
    }
   ],
   "source": [
    "%matplotlib inline \n",
    "# necessary for the notebook\n",
    "import pylab as plt\n",
    "\n",
    "a, b = 0., 2*np.pi\n",
    "x = np.linspace(a, b, 200)\n",
    "plt.plot(x, np.sin(x), 'b', label=r'$sin$')\n",
    "plt.plot(x, np.cos(x), 'r', label=r'$cos$')\n",
    "plt.title('Plot of the test functions')\n",
    "plt.xticks([0, np.pi/2, np.pi, 3*np.pi/2, 2*np.pi],\n",
    "           [r'$0$', r'$\\pi/2$', r'$\\pi$', r'$3\\pi/2$', r'$2\\pi$'])\n",
    "plt.legend(loc='best')\n",
    "plt.axis([a, b, -1, 1])\n",
    "plt.show()"
   ]
  },
  {
   "cell_type": "code",
   "execution_count": 14,
   "metadata": {
    "collapsed": false
   },
   "outputs": [
    {
     "data": {
      "image/png": "[encoded data removed]",
      "text/plain": [
       "<matplotlib.figure.Figure at 0x1077d9f50>"
      ]
     },
     "metadata": {},
     "output_type": "display_data"
    },
    {
     "data": {
      "image/png": "[encoded data removed]",
      "text/plain": [
       "<matplotlib.figure.Figure at 0x107781190>"
      ]
     },
     "metadata": {},
     "output_type": "display_data"
    }
   ],
   "source": [
    "def f(x, k):\n",
    "    return np.exp(-k*x**2)\n",
    "    \n",
    "a, b = -2, 2\n",
    "x = np.linspace(a, b, 200)\n",
    "## several curves in the same plot figure\n",
    "plt.figure()\n",
    "plt.hold(True)\n",
    "for k in range(1,3):\n",
    "    plt.plot(x, f(x, k), label=r'$k={0:d}$'.format(k))\n",
    "plt.title(r'$y=\\exp(-kx^2)$')\n",
    "plt.legend()\n",
    "plt.hold(False)\n",
    "## several plots in the same figure\n",
    "plt.figure()\n",
    "for k in range(1,3):\n",
    "    plt.subplot(1, 2, k)\n",
    "    plt.plot(x, f(x, k))\n",
    "    plt.title(r'$k={0:d}$'.format(k))\n",
    "    plt.xticks(np.linspace(a, b, 5))"
   ]
  },
  {
   "cell_type": "markdown",
   "metadata": {},
   "source": [
    "## Exercise\n",
    "\n",
    "We will now use all the previous commands to compute a numerical solution of an ordinary differential equation by using the classical scheme of Euler. The equation reads\n",
    "$$ u'(t) = -u(t), \\quad t>0, \\qquad u(0) = 1,$$\n",
    "for which the exact solution is $u(t) = \\exp(-t)$.\n",
    "\n",
    "####Question 1\n",
    "\n",
    "Plot the exact solution.\n",
    "\n",
    "####Question 2\n",
    "\n",
    "Write a python function called euler that takes two inputs: a vector $t$ containing the discret times where the solution will be computed and the initial data $u_i$ (we will set $u_i=1$ in the following). The output should be a vector $u$ (the shapes of $u$ and $t$ should be the same) containing the following numerical values:\n",
    "$$ u_0 = u_i, \\qquad u_{n+1} = u_n + (t_{n+1}-t_n) f(u_n, t_n), \\quad n\\geq0,$$\n",
    "with the function $f$ defined by $f(y, t)=-y$.\n",
    "\n",
    "####Question 3\n",
    "\n",
    "Plot several numerical solutions on a same graphical window for several time step. Add a title and a legend."
   ]
  },
  {
   "cell_type": "code",
   "execution_count": 1,
   "metadata": {
    "collapsed": false
   },
   "outputs": [
    {
     "data": {
      "text/html": [
       "<link href='http://fonts.googleapis.com/css?family=Fenix' rel='stylesheet' type='text/css'>\n",
       "<link href='http://fonts.googleapis.com/css?family=Alegreya+Sans:100,300,400,500,700,800,900,100italic,300italic,400italic,500italic,700italic,800italic,900italic' rel='stylesheet' type='text/css'>\n",
       "<link href='http://fonts.googleapis.com/css?family=Source+Code+Pro:300,400' rel='stylesheet' type='text/css'>\n",
       "<style>\n",
       "    @font-face {\n",
       "        font-family: \"Computer Modern\";\n",
       "        src: url('http://mirrors.ctan.org/fonts/cm-unicode/fonts/otf/cmunss.otf');\n",
       "    }\n",
       "    div.cell{\n",
       "        width:85%;/*800px;*/\n",
       "        margin-left:5% !important;\n",
       "        /*margin-right:auto;*/\n",
       "    }\n",
       "    h1, h2, h3, h4, h5 {\n",
       "        font-family: 'Alegreya Sans', sans-serif;\n",
       "    }\n",
       "    div.text_cell_render{\n",
       "        font-family: 'Alegreya Sans',Computer Modern, \"Helvetica Neue\", Arial, Helvetica, Geneva, sans-serif;\n",
       "        line-height: 135%;\n",
       "        font-size: 120%;\n",
       "        width:100%;/*600px;*/\n",
       "        /*margin-left:auto;*/\n",
       "        /*margin-right:auto;*/\n",
       "    }\n",
       "    .CodeMirror{\n",
       "            font-family: \"Source Code Pro\";\n",
       "\t\t\tfont-size: 100%;\n",
       "    }\n",
       "    .text_cell_render p{\n",
       "        text-align: justify;\n",
       "    }\n",
       "    .text_cell_render h1 {\n",
       "        font-weight: 200;\n",
       "\t\tline-height: 100%;\n",
       "        color:#CD2305;\n",
       "        margin-bottom: 0.5em;\n",
       "        margin-top: 0.5em;\n",
       "        display: block;\n",
       "        font-size: 400%;\n",
       "        text-align: center;\n",
       "        border-bottom: 1px solid #CD2305;\n",
       "        border-top: 1px solid #CD2305;\n",
       "    }\n",
       "    .text_cell_render h2 {\n",
       "        font-weight: 200;\n",
       "\t\tline-height: 100%;\n",
       "        color:#CD2305;\n",
       "        margin-bottom: 0.5em;\n",
       "        margin-top: 0.5em;\n",
       "        display: block;\n",
       "        font-size: 300%;\n",
       "        border-bottom: 1px solid #CD2305;\n",
       "    }\n",
       "    .text_cell_render h3 {\n",
       "        font-weight: 200;\n",
       "\t\tline-height: 100%;\n",
       "        color:#CD2305;\n",
       "        margin-bottom: 0.5em;\n",
       "        margin-top: 0.5em;\n",
       "        display: block;\n",
       "        font-size: 200%;\n",
       "    }\n",
       "    .text_cell_render h4 {\n",
       "        font-style: italic;\n",
       "        font-weight: bold;\n",
       "\t\tline-height: 100%;\n",
       "        color:#CD2305;\n",
       "        display: block;\n",
       "        font-size: 100%;\n",
       "    }\n",
       "    .text_cell_render h5 {\n",
       "        font-weight: 200;\n",
       "\t\tline-height: 100%;\n",
       "        color:#CD2305;\n",
       "        margin-bottom: 0.5em;\n",
       "        margin-top: 0.5em;\n",
       "        display: block;\n",
       "        font-size: 100%;\n",
       "    }\n",
       "    .text_cell_render ul {list-style-type: square;}\n",
       "    .warning{\n",
       "        color: rgb( 240, 20, 20 )\n",
       "        }\n",
       "</style>\n",
       "\n",
       "<script>\n",
       "    MathJax.Hub.Config({\n",
       "                        TeX: {\n",
       "                           extensions: [\"AMSmath.js\"],\n",
       "                           },\n",
       "                tex2jax: {\n",
       "                    inlineMath: [ ['$','$'], [\"\\\\(\",\"\\\\)\"] ],\n",
       "                    displayMath: [ ['$$','$$'], [\"\\\\[\",\"\\\\]\"] ]\n",
       "                },\n",
       "                displayAlign: 'center', // Change this to 'center' to center equations.\n",
       "                \"HTML-CSS\": {\n",
       "                    styles: {'.MathJax_Display': {\"margin\": 4}}\n",
       "                }\n",
       "        });\n",
       "</script>\n"
      ],
      "text/plain": [
       "<IPython.core.display.HTML object>"
      ]
     },
     "execution_count": 1,
     "metadata": {},
     "output_type": "execute_result"
    }
   ],
   "source": [
    "# execute this part to modify the css style\n",
    "from IPython.core.display import HTML\n",
    "def css_styling():\n",
    "    styles = open(\"./custom.css\", \"r\").read()\n",
    "    return HTML(styles)\n",
    "css_styling()"
   ]
  }
 ],
 "metadata": {
  "kernelspec": {
   "display_name": "Python 2",
   "language": "python",
   "name": "python2"
  },
  "language_info": {
   "codemirror_mode": {
    "name": "ipython",
    "version": 2
   },
   "file_extension": ".py",
   "mimetype": "text/x-python",
   "name": "python",
   "nbconvert_exporter": "python",
   "pygments_lexer": "ipython2",
   "version": "2.7.10"
  }
 },
 "nbformat": 4,
 "nbformat_minor": 0
}
